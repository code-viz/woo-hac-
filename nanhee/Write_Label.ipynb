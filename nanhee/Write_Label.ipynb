{
 "cells": [
  {
   "cell_type": "code",
   "execution_count": 1,
   "id": "labeled-prescription",
   "metadata": {},
   "outputs": [
    {
     "name": "stdout",
     "output_type": "stream",
     "text": [
      "Treatment : 488\n",
      "No Treatment : 512\n",
      "Total : 1000\n",
      "\n",
      "Survive : 109\n",
      "No Survive : 891\n",
      "Total : 1000\n",
      "\n",
      "Treatment & Survive : 48\n",
      "Treatment & No Survive : 440\n",
      "No Treatment & Survive : 61\n",
      "No Treatment & No Survive : 451\n",
      "Total : 1000\n",
      "\n",
      "    newlabel\n",
      "0          3\n",
      "1          3\n",
      "2          1\n",
      "3          1\n",
      "4          2\n",
      "..       ...\n",
      "995        2\n",
      "996        1\n",
      "997        0\n",
      "998        3\n",
      "999        3\n",
      "\n",
      "[1000 rows x 1 columns]\n"
     ]
    }
   ],
   "source": [
    "import pandas as pd\n",
    "import numpy as np\n",
    "\n",
    "clinic_table = pd.read_csv('Clinical_Variables.csv', index_col=0).to_numpy()[:,:]\n",
    "genetic_table = pd.read_csv('Genetic_alterations.csv', index_col=0).to_numpy()[:,:]\n",
    "survival_table = pd.read_csv('Survival_time_event.csv', index_col=0).to_numpy()[:,:]\n",
    "treatment_table = pd.read_csv('Treatment.csv', index_col=0).to_numpy()[:,:]\n",
    "\n",
    "treatment = 1\n",
    "no_treatmet = 0\n",
    "treatment_index = np.where(treatment==treatment_table)[0] # 치료를 받은 사람들의 Index (총 488명)\n",
    "no_treatment_index = np.where(no_treatmet==treatment_table)[0] # 치료를 받지 않은 사람들의 Index (총 512명)\n",
    "print('Treatment :', treatment_index.shape[0])\n",
    "print('No Treatment :', no_treatment_index.shape[0])\n",
    "print('Total :', treatment_index.shape[0] + no_treatment_index.shape[0])\n",
    "print()\n",
    "\n",
    "survive = 0\n",
    "no_survive = 1\n",
    "survive_index = np.where(survive==survival_table[:,1])[0] # 생존한 사람들의 Index (총 109명)\n",
    "no_survive_index = np.where(no_survive==survival_table[:,1])[0] # 생존하지 못 한 사람들의 Index (총 891명)\n",
    "print('Survive :', survive_index.shape[0])\n",
    "print('No Survive :', no_survive_index.shape[0])\n",
    "print('Total :', survive_index.shape[0] + no_survive_index.shape[0])\n",
    "print()\n",
    "\n",
    "treatment_survive_index = np.intersect1d(treatment_index, survive_index) # 치료 O, 생존 O (총 48명)\n",
    "treatment_no_survive_index = np.intersect1d(treatment_index, no_survive_index) # 치료 O, 생존 X (총 440명)\n",
    "no_treatment_survive_index = np.intersect1d(no_treatment_index, survive_index) # 치료 X, 생존 O (총 61명)\n",
    "no_treatment_no_survive_index = np.intersect1d(no_treatment_index, no_survive_index) # 치료 X, 생존 X (총 451명)\n",
    "print('Treatment & Survive :', treatment_survive_index.shape[0])\n",
    "print('Treatment & No Survive :', treatment_no_survive_index.shape[0])\n",
    "print('No Treatment & Survive :', no_treatment_survive_index.shape[0])\n",
    "print('No Treatment & No Survive :', no_treatment_no_survive_index.shape[0])\n",
    "print('Total :', treatment_survive_index.shape[0] + treatment_no_survive_index.shape[0] + no_treatment_survive_index.shape[0] + no_treatment_no_survive_index.shape[0])\n",
    "print()\n",
    "\n",
    "\n",
    "survival_treatment_table = pd.DataFrame(columns=['newlabel'], index=range(0,1000))\n",
    "survival_treatment_table.iloc[treatment_survive_index,0] = [0] * treatment_survive_index.shape[0]\n",
    "survival_treatment_table.iloc[treatment_no_survive_index,0] = [1] * treatment_no_survive_index.shape[0]\n",
    "survival_treatment_table.iloc[no_treatment_survive_index,0] = [2] * no_treatment_survive_index.shape[0]\n",
    "survival_treatment_table.iloc[no_treatment_no_survive_index,0] = [3] * no_treatment_no_survive_index.shape[0]\n",
    "\n",
    "print(survival_treatment_table)\n",
    "survival_treatment_table.to_csv('Label.csv')"
   ]
  },
  {
   "cell_type": "code",
   "execution_count": null,
   "id": "early-sponsorship",
   "metadata": {},
   "outputs": [],
   "source": []
  }
 ],
 "metadata": {
  "kernelspec": {
   "display_name": "Python 3",
   "language": "python",
   "name": "python3"
  },
  "language_info": {
   "codemirror_mode": {
    "name": "ipython",
    "version": 3
   },
   "file_extension": ".py",
   "mimetype": "text/x-python",
   "name": "python",
   "nbconvert_exporter": "python",
   "pygments_lexer": "ipython3",
   "version": "3.8.8"
  }
 },
 "nbformat": 4,
 "nbformat_minor": 5
}
