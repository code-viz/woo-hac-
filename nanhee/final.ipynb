{
 "cells": [
  {
   "cell_type": "code",
   "execution_count": 1,
   "id": "exclusive-religious",
   "metadata": {},
   "outputs": [],
   "source": [
    "import pandas as pd\n",
    "import numpy as np\n",
    "from matplotlib import pyplot as plt\n",
    "plt.rcParams[\"figure.figsize\"] = (200,10)\n",
    "# !pip install xgboost\n",
    "# !pip install lightgbm\n",
    "# !pip install imblearn\n",
    "# !pip install borutashap\n",
    "# !pip install eli5"
   ]
  },
  {
   "cell_type": "code",
   "execution_count": 2,
   "id": "analyzed-entity",
   "metadata": {},
   "outputs": [],
   "source": [
    "time_table = pd.read_csv('Survival_time_event.csv', index_col=0)\n",
    "clinic_table = pd.read_csv('Clinical_Variables.csv', index_col=0)\n",
    "genetic_table = pd.read_csv('Genetic_alterations.csv', index_col=0)\n",
    "survival_treatment_table = pd.read_csv('Label.csv', index_col=0)"
   ]
  },
  {
   "cell_type": "code",
   "execution_count": null,
   "id": "revised-entrepreneur",
   "metadata": {},
   "outputs": [],
   "source": []
  },
  {
   "cell_type": "code",
   "execution_count": null,
   "id": "designing-annex",
   "metadata": {},
   "outputs": [],
   "source": []
  },
  {
   "cell_type": "code",
   "execution_count": 3,
   "id": "strange-norfolk",
   "metadata": {},
   "outputs": [
    {
     "name": "stdout",
     "output_type": "stream",
     "text": [
      "outlier of time: \n",
      "905   -7.945621\n",
      "Name: time, dtype: float64\n",
      "\n",
      "              time        event\n",
      "count  1000.000000  1000.000000\n",
      "mean     51.876125     0.891000\n",
      "std      22.122689     0.311795\n",
      "min       7.070708     0.000000\n",
      "25%      37.401307     1.000000\n",
      "50%      47.064712     1.000000\n",
      "75%      60.966476     1.000000\n",
      "max     217.078908     1.000000\n",
      "\n"
     ]
    }
   ],
   "source": [
    "'''\n",
    "Correlating numerical features of Time data\n",
    "\n",
    "- outlier value drop\n",
    "'''\n",
    "\n",
    "print('outlier of time: ')\n",
    "print(time_table.loc[time_table['time'] < 0, 'time'], end='\\n\\n')\n",
    "\n",
    "time_table_outlier = time_table.copy()\n",
    "time_table_outlier.loc[time_table_outlier['time'] < 0, 'time'] = abs(time_table_outlier.loc[time_table_outlier['time'] < 0, 'time'])\n",
    "print(time_table_outlier.describe(), end='\\n\\n')"
   ]
  },
  {
   "cell_type": "code",
   "execution_count": 4,
   "id": "usual-church",
   "metadata": {},
   "outputs": [
    {
     "name": "stdout",
     "output_type": "stream",
     "text": [
      "# Var1\n",
      "2    235\n",
      "3    204\n",
      "1    171\n",
      "4    139\n",
      "5     95\n",
      "0     57\n",
      "6     50\n",
      "7     27\n",
      "8     13\n",
      "9      9\n",
      "Name: Var1, dtype: int64\n",
      "--------------------\n",
      "# Var2\n",
      "3    221\n",
      "2    218\n",
      "4    163\n",
      "1    113\n",
      "5    109\n",
      "6     65\n",
      "0     48\n",
      "7     30\n",
      "9     20\n",
      "8     13\n",
      "Name: Var2, dtype: int64\n",
      "--------------------\n",
      "# Var3\n",
      "2    260\n",
      "3    196\n",
      "1    156\n",
      "4    130\n",
      "5     97\n",
      "0     55\n",
      "6     55\n",
      "7     23\n",
      "8     16\n",
      "9     12\n",
      "Name: Var3, dtype: int64\n",
      "--------------------\n",
      "# Var4\n",
      "2    242\n",
      "3    195\n",
      "1    150\n",
      "4    140\n",
      "5    106\n",
      "6     67\n",
      "0     36\n",
      "7     32\n",
      "8     16\n",
      "9     16\n",
      "Name: Var4, dtype: int64\n",
      "--------------------\n",
      "# Var5\n",
      "2    247\n",
      "3    223\n",
      "4    161\n",
      "5    124\n",
      "1     76\n",
      "6     63\n",
      "7     41\n",
      "0     28\n",
      "9     19\n",
      "8     18\n",
      "Name: Var5, dtype: int64\n",
      "--------------------\n",
      "# Var6\n",
      "2    240\n",
      "3    212\n",
      "4    128\n",
      "1    127\n",
      "5     99\n",
      "6     64\n",
      "0     53\n",
      "7     40\n",
      "8     20\n",
      "9     17\n",
      "Name: Var6, dtype: int64\n",
      "--------------------\n",
      "# Var7\n",
      "1    269\n",
      "2    208\n",
      "3    144\n",
      "0    128\n",
      "4    118\n",
      "5     62\n",
      "6     47\n",
      "7     16\n",
      "8      6\n",
      "9      2\n",
      "Name: Var7, dtype: int64\n",
      "--------------------\n",
      "# Var8\n",
      "1    241\n",
      "2    227\n",
      "3    171\n",
      "0    127\n",
      "4    101\n",
      "5     69\n",
      "6     30\n",
      "7     20\n",
      "8     10\n",
      "9      4\n",
      "Name: Var8, dtype: int64\n",
      "--------------------\n",
      "# Var9\n",
      "2    250\n",
      "1    235\n",
      "3    157\n",
      "0    135\n",
      "4    100\n",
      "5     57\n",
      "6     33\n",
      "7     22\n",
      "9      6\n",
      "8      5\n",
      "Name: Var9, dtype: int64\n",
      "--------------------\n",
      "# Var10\n",
      "1    287\n",
      "2    205\n",
      "3    156\n",
      "0    114\n",
      "4    108\n",
      "5     62\n",
      "6     40\n",
      "7     18\n",
      "8      5\n",
      "9      5\n",
      "Name: Var10, dtype: int64\n",
      "--------------------\n"
     ]
    }
   ],
   "source": [
    "'''\n",
    "Correlating numerical features of Clinic data\n",
    "\n",
    "- outlier value drop\n",
    "'''\n",
    "\n",
    "clinic_table_outlier = clinic_table.copy()\n",
    "\n",
    "# drop outlier\n",
    "for col in clinic_table_outlier.columns:\n",
    "    for outlier in range(10,13):\n",
    "        clinic_table_outlier = clinic_table_outlier.replace(outlier, 9)\n",
    "\n",
    "# visualize\n",
    "for col in clinic_table_outlier.columns:\n",
    "    print('#', col)\n",
    "    print(clinic_table_outlier[col].value_counts())\n",
    "    print('-'*20)"
   ]
  },
  {
   "cell_type": "code",
   "execution_count": 5,
   "id": "whole-authorization",
   "metadata": {},
   "outputs": [
    {
     "name": "stdout",
     "output_type": "stream",
     "text": [
      "# Var1\n",
      "0.3    235\n",
      "0.4    204\n",
      "0.2    171\n",
      "0.5    139\n",
      "0.6     95\n",
      "0.1     57\n",
      "0.7     50\n",
      "0.8     27\n",
      "0.9     13\n",
      "1.0      9\n",
      "Name: Var1, dtype: int64\n",
      "--------------------\n",
      "# Var2\n",
      "0.4    221\n",
      "0.3    218\n",
      "0.5    163\n",
      "0.2    113\n",
      "0.6    109\n",
      "0.7     65\n",
      "0.1     48\n",
      "0.8     30\n",
      "1.0     20\n",
      "0.9     13\n",
      "Name: Var2, dtype: int64\n",
      "--------------------\n",
      "# Var3\n",
      "0.3    260\n",
      "0.4    196\n",
      "0.2    156\n",
      "0.5    130\n",
      "0.6     97\n",
      "0.1     55\n",
      "0.7     55\n",
      "0.8     23\n",
      "0.9     16\n",
      "1.0     12\n",
      "Name: Var3, dtype: int64\n",
      "--------------------\n",
      "# Var4\n",
      "0.3    242\n",
      "0.4    195\n",
      "0.2    150\n",
      "0.5    140\n",
      "0.6    106\n",
      "0.7     67\n",
      "0.1     36\n",
      "0.8     32\n",
      "0.9     16\n",
      "1.0     16\n",
      "Name: Var4, dtype: int64\n",
      "--------------------\n",
      "# Var5\n",
      "0.3    247\n",
      "0.4    223\n",
      "0.5    161\n",
      "0.6    124\n",
      "0.2     76\n",
      "0.7     63\n",
      "0.8     41\n",
      "0.1     28\n",
      "1.0     19\n",
      "0.9     18\n",
      "Name: Var5, dtype: int64\n",
      "--------------------\n",
      "# Var6\n",
      "0.3    240\n",
      "0.4    212\n",
      "0.5    128\n",
      "0.2    127\n",
      "0.6     99\n",
      "0.7     64\n",
      "0.1     53\n",
      "0.8     40\n",
      "0.9     20\n",
      "1.0     17\n",
      "Name: Var6, dtype: int64\n",
      "--------------------\n",
      "# Var7\n",
      "0.2    269\n",
      "0.3    208\n",
      "0.4    144\n",
      "0.1    128\n",
      "0.5    118\n",
      "0.6     62\n",
      "0.7     47\n",
      "0.8     16\n",
      "0.9      6\n",
      "1.0      2\n",
      "Name: Var7, dtype: int64\n",
      "--------------------\n",
      "# Var8\n",
      "0.2    241\n",
      "0.3    227\n",
      "0.4    171\n",
      "0.1    127\n",
      "0.5    101\n",
      "0.6     69\n",
      "0.7     30\n",
      "0.8     20\n",
      "0.9     10\n",
      "1.0      4\n",
      "Name: Var8, dtype: int64\n",
      "--------------------\n",
      "# Var9\n",
      "0.3    250\n",
      "0.2    235\n",
      "0.4    157\n",
      "0.1    135\n",
      "0.5    100\n",
      "0.6     57\n",
      "0.7     33\n",
      "0.8     22\n",
      "1.0      6\n",
      "0.9      5\n",
      "Name: Var9, dtype: int64\n",
      "--------------------\n",
      "# Var10\n",
      "0.2    287\n",
      "0.3    205\n",
      "0.4    156\n",
      "0.1    114\n",
      "0.5    108\n",
      "0.6     62\n",
      "0.7     40\n",
      "0.8     18\n",
      "0.9      5\n",
      "1.0      5\n",
      "Name: Var10, dtype: int64\n",
      "--------------------\n"
     ]
    }
   ],
   "source": [
    "'''\n",
    "Correlating numerical features of Clinic data\n",
    "\n",
    "- normalization\n",
    "'''\n",
    "\n",
    "clinic_table_normalization = clinic_table_outlier.copy()\n",
    "\n",
    "# normalization\n",
    "for col in clinic_table_normalization.columns:\n",
    "    clinic_table_normalization[col] = (clinic_table_normalization[col] + 1)/10.0\n",
    "    \n",
    "# visualize\n",
    "for col in clinic_table_normalization.columns:\n",
    "    print('#', col)\n",
    "    print(clinic_table_normalization[col].value_counts())\n",
    "    print('-'*20)    "
   ]
  },
  {
   "cell_type": "code",
   "execution_count": 6,
   "id": "seventh-bottle",
   "metadata": {},
   "outputs": [
    {
     "name": "stdout",
     "output_type": "stream",
     "text": [
      "    G1   G2   G3   G4   G5   G6   G7   G8   G9  G10  ...  G291  G292  G293  \\\n",
      "0 -0.5  0.5 -0.5 -0.5 -0.5 -0.5 -0.5 -0.5 -0.5 -0.5  ...  -0.5  -0.5  -0.5   \n",
      "1 -0.5  0.5 -0.5 -0.5 -0.5 -0.5 -0.5 -0.5 -0.5 -0.5  ...  -0.5  -0.5  -0.5   \n",
      "2 -0.5 -0.5 -0.5 -0.5 -0.5 -0.5 -0.5 -0.5 -0.5 -0.5  ...  -0.5  -0.5  -0.5   \n",
      "3 -0.5 -0.5 -0.5 -0.5 -0.5 -0.5 -0.5  0.5 -0.5  0.5  ...  -0.5   0.5  -0.5   \n",
      "4 -0.5 -0.5 -0.5 -0.5 -0.5 -0.5 -0.5 -0.5 -0.5 -0.5  ...  -0.5  -0.5  -0.5   \n",
      "5 -0.5 -0.5 -0.5 -0.5 -0.5 -0.5 -0.5 -0.5 -0.5 -0.5  ...  -0.5  -0.5  -0.5   \n",
      "6 -0.5 -0.5 -0.5 -0.5 -0.5 -0.5 -0.5 -0.5 -0.5 -0.5  ...  -0.5  -0.5  -0.5   \n",
      "7 -0.5 -0.5 -0.5  0.5 -0.5 -0.5 -0.5 -0.5 -0.5  0.5  ...  -0.5  -0.5  -0.5   \n",
      "8 -0.5 -0.5 -0.5 -0.5 -0.5 -0.5 -0.5 -0.5 -0.5 -0.5  ...  -0.5  -0.5  -0.5   \n",
      "9 -0.5 -0.5 -0.5 -0.5 -0.5 -0.5 -0.5 -0.5 -0.5 -0.5  ...  -0.5  -0.5  -0.5   \n",
      "\n",
      "   G294  G295  G296  G297  G298  G299  G300  \n",
      "0  -0.5  -0.5  -0.5  -0.5  -0.5  -0.5  -0.5  \n",
      "1  -0.5  -0.5  -0.5  -0.5  -0.5  -0.5  -0.5  \n",
      "2  -0.5  -0.5  -0.5  -0.5  -0.5  -0.5  -0.5  \n",
      "3   0.5  -0.5  -0.5  -0.5  -0.5  -0.5  -0.5  \n",
      "4  -0.5  -0.5  -0.5  -0.5  -0.5  -0.5   0.5  \n",
      "5  -0.5  -0.5  -0.5  -0.5  -0.5  -0.5  -0.5  \n",
      "6  -0.5  -0.5   0.5  -0.5  -0.5  -0.5  -0.5  \n",
      "7  -0.5  -0.5   0.5   0.5  -0.5  -0.5  -0.5  \n",
      "8  -0.5  -0.5  -0.5  -0.5  -0.5  -0.5  -0.5  \n",
      "9  -0.5  -0.5  -0.5  -0.5  -0.5  -0.5  -0.5  \n",
      "\n",
      "[10 rows x 300 columns]\n"
     ]
    }
   ],
   "source": [
    "'''\n",
    "Correlating numerical features of Genetic data\n",
    "\n",
    "- normalization\n",
    "'''\n",
    "genetic_table_normalization = genetic_table.copy()\n",
    "\n",
    "# normalization\n",
    "for col in genetic_table_normalization.columns:\n",
    "    genetic_table_normalization[col] -= 0.5\n",
    "    \n",
    "    \n",
    "print(genetic_table_normalization.head(10))"
   ]
  },
  {
   "cell_type": "code",
   "execution_count": 7,
   "id": "married-basement",
   "metadata": {},
   "outputs": [],
   "source": [
    "from sklearn.ensemble import RandomForestClassifier, AdaBoostClassifier, ExtraTreesClassifier\n",
    "from sklearn.metrics import accuracy_score\n",
    "import lightgbm as lgb"
   ]
  },
  {
   "cell_type": "code",
   "execution_count": 416,
   "id": "geographic-uncle",
   "metadata": {},
   "outputs": [],
   "source": [
    "def TestML(model,selected_genetic):\n",
    "    train_acc = []\n",
    "    test_acc = []\n",
    "    for i in range(20):\n",
    "        genetic_10 = genetic_table_normalization.copy()\n",
    "        genetic_10 = genetic_10[selected_genetic]\n",
    "\n",
    "        input_dataset = pd.concat([survival_treatment_table, time_table_outlier, clinic_table_normalization ,genetic_10], axis=1)\n",
    "        input_dataset = input_dataset.drop(['event'], axis=1)\n",
    "\n",
    "        all_index = np.arange(1000)\n",
    "        train_data, test_data = input_dataset.iloc[all_index[:800],:], input_dataset.iloc[all_index[800:1000],:]\n",
    "        X_train = train_data.drop(['newlabel'], axis=1)\n",
    "        Y_train = train_data['newlabel']\n",
    "\n",
    "        X_test = test_data.drop(['newlabel'], axis=1)\n",
    "        Y_test = test_data['newlabel']\n",
    "\n",
    "        model.fit(X_train, Y_train)\n",
    "        train_acc.append(np.round(model.score(X_train, Y_train) * 100, 10))\n",
    "        \n",
    "        Y_pred = model.predict(X_test)\n",
    "        test_acc.append(np.round(accuracy_score(Y_test, Y_pred), 10))\n",
    "        \n",
    "        \n",
    "    print('## Train 정확도: ', np.round(np.max(train_acc), 3), np.round(np.min(train_acc), 3))\n",
    "    print('## Test 정확도: ', np.round(np.max(test_acc),3), np.round(np.min(test_acc),3))\n",
    "    print()\n",
    "    \n",
    "    return train_acc, test_acc"
   ]
  },
  {
   "cell_type": "code",
   "execution_count": 267,
   "id": "automated-arrest",
   "metadata": {},
   "outputs": [
    {
     "name": "stdout",
     "output_type": "stream",
     "text": [
      "## test_model1 (Train accuracy가 100인 경우의 모델)\n",
      "## Train 정확도:  100.0 100.0\n",
      "## Test 정확도:  0.65 0.56\n",
      "\n",
      "## test_model2 (Train accuracy가 100이 아닌 경우의 모델)\n",
      "## Train 정확도:  92.75 92.75\n",
      "## Test 정확도:  0.63 0.63\n",
      "\n"
     ]
    }
   ],
   "source": [
    "selected_genetic = ['G211', 'G179', 'G80', 'G27', 'G147', 'G139', 'G242', 'G264', 'G290', 'G130']\n",
    "\n",
    "print('## test_model1 (Train accuracy가 100인 경우의 모델)')\n",
    "model1_train, model1_test = TestML(test_model1, selected_genetic)\n",
    "\n",
    "print('## test_model2 (Train accuracy가 100이 아닌 경우의 모델)')\n",
    "model2_train, model2_test = TestML(test_model2, selected_genetic)"
   ]
  },
  {
   "cell_type": "code",
   "execution_count": 444,
   "id": "personalized-peninsula",
   "metadata": {},
   "outputs": [],
   "source": [
    "test_model1 = RandomForestClassifier(n_estimators=60)\n",
    "test_model2 = lgb.LGBMClassifier(n_estimators=32,num_leaves=64,n_jobs=-1,boost_from_average=False)"
   ]
  },
  {
   "cell_type": "code",
   "execution_count": 446,
   "id": "lined-issue",
   "metadata": {},
   "outputs": [
    {
     "name": "stdout",
     "output_type": "stream",
     "text": [
      "## test_model2 (Train accuracy가 100이 아닌 경우의 모델)\n",
      "## Train 정확도:  94.25 94.25\n",
      "## Test 정확도:  0.63 0.63\n",
      "\n"
     ]
    }
   ],
   "source": [
    "print('## test_model2 (Train accuracy가 100이 아닌 경우의 모델)')\n",
    "model2_train, model2_test = TestML(test_model2, selected_genetic)"
   ]
  },
  {
   "cell_type": "code",
   "execution_count": 447,
   "id": "unknown-customer",
   "metadata": {},
   "outputs": [
    {
     "data": {
      "text/html": [
       "<div>\n",
       "<style scoped>\n",
       "    .dataframe tbody tr th:only-of-type {\n",
       "        vertical-align: middle;\n",
       "    }\n",
       "\n",
       "    .dataframe tbody tr th {\n",
       "        vertical-align: top;\n",
       "    }\n",
       "\n",
       "    .dataframe thead th {\n",
       "        text-align: right;\n",
       "    }\n",
       "</style>\n",
       "<table border=\"1\" class=\"dataframe\">\n",
       "  <thead>\n",
       "    <tr style=\"text-align: right;\">\n",
       "      <th></th>\n",
       "      <th>Max</th>\n",
       "      <th>Min</th>\n",
       "    </tr>\n",
       "  </thead>\n",
       "  <tbody>\n",
       "    <tr>\n",
       "      <th>RandomForest Train</th>\n",
       "      <td>100.00</td>\n",
       "      <td>100.000</td>\n",
       "    </tr>\n",
       "    <tr>\n",
       "      <th>RandomForest Test</th>\n",
       "      <td>0.65</td>\n",
       "      <td>0.565</td>\n",
       "    </tr>\n",
       "  </tbody>\n",
       "</table>\n",
       "</div>"
      ],
      "text/plain": [
       "                       Max      Min\n",
       "RandomForest Train  100.00  100.000\n",
       "RandomForest Test   0.65    0.565  "
      ]
     },
     "metadata": {},
     "output_type": "display_data"
    }
   ],
   "source": [
    "model_train_results = np.array([[np.round(np.max(model1_train), 3), np.round(np.min(model1_train), 3)],\n",
    "                               [np.round(np.max(model1_test), 3),np.round(np.min(model1_test), 3)]])\n",
    "\n",
    "display(pd.DataFrame(model_train_results, columns=['Max', 'Min'],\n",
    "                     index=['RandomForest Train', 'RandomForest Test']))"
   ]
  },
  {
   "cell_type": "code",
   "execution_count": 412,
   "id": "rolled-milan",
   "metadata": {},
   "outputs": [
    {
     "data": {
      "text/html": [
       "<div>\n",
       "<style scoped>\n",
       "    .dataframe tbody tr th:only-of-type {\n",
       "        vertical-align: middle;\n",
       "    }\n",
       "\n",
       "    .dataframe tbody tr th {\n",
       "        vertical-align: top;\n",
       "    }\n",
       "\n",
       "    .dataframe thead th {\n",
       "        text-align: right;\n",
       "    }\n",
       "</style>\n",
       "<table border=\"1\" class=\"dataframe\">\n",
       "  <thead>\n",
       "    <tr style=\"text-align: right;\">\n",
       "      <th></th>\n",
       "      <th>Max</th>\n",
       "      <th>Min</th>\n",
       "    </tr>\n",
       "  </thead>\n",
       "  <tbody>\n",
       "    <tr>\n",
       "      <th>RandomForest Train</th>\n",
       "      <td>100.000</td>\n",
       "      <td>100.000</td>\n",
       "    </tr>\n",
       "    <tr>\n",
       "      <th>RandomForest Test</th>\n",
       "      <td>0.650</td>\n",
       "      <td>0.565</td>\n",
       "    </tr>\n",
       "    <tr>\n",
       "      <th>LightGBM Train</th>\n",
       "      <td>89.250</td>\n",
       "      <td>89.250</td>\n",
       "    </tr>\n",
       "    <tr>\n",
       "      <th>LightGBM Test</th>\n",
       "      <td>0.635</td>\n",
       "      <td>0.635</td>\n",
       "    </tr>\n",
       "  </tbody>\n",
       "</table>\n",
       "</div>"
      ],
      "text/plain": [
       "                        Max      Min\n",
       "RandomForest Train  100.000  100.000\n",
       "RandomForest Test   0.650    0.565  \n",
       "LightGBM Train      89.250   89.250 \n",
       "LightGBM Test       0.635    0.635  "
      ]
     },
     "metadata": {},
     "output_type": "display_data"
    }
   ],
   "source": [
    "model_train_results = np.array([[np.round(np.max(model1_train), 3), np.round(np.min(model1_train), 3)],\n",
    "                               [np.round(np.max(model1_test), 3),np.round(np.min(model1_test), 3)],\n",
    "                               [np.round(np.max(model2_train), 3),np.round(np.min(model2_train), 3)],\n",
    "                               [np.round(np.max(model2_test), 3),np.round(np.min(model2_test), 3)]])\n",
    "\n",
    "display(pd.DataFrame(model_train_results, columns=['Max', 'Min'],\n",
    "                     index=['RandomForest Train', 'RandomForest Test','LightGBM Train','LightGBM Test']))"
   ]
  },
  {
   "cell_type": "code",
   "execution_count": 268,
   "id": "offensive-annotation",
   "metadata": {},
   "outputs": [
    {
     "name": "stdout",
     "output_type": "stream",
     "text": [
      "[100.0, 100.0, 100.0, 100.0, 100.0, 100.0, 100.0, 100.0, 100.0, 100.0, 100.0, 100.0, 100.0, 100.0, 100.0, 100.0, 100.0, 100.0, 100.0, 100.0]\n",
      "[0.585, 0.565, 0.6, 0.57, 0.565, 0.59, 0.605, 0.58, 0.585, 0.605, 0.575, 0.575, 0.575, 0.6, 0.585, 0.595, 0.575, 0.615, 0.58, 0.65]\n",
      "[92.75, 92.75, 92.75, 92.75, 92.75, 92.75, 92.75, 92.75, 92.75, 92.75, 92.75, 92.75, 92.75, 92.75, 92.75, 92.75, 92.75, 92.75, 92.75, 92.75]\n",
      "[0.63, 0.63, 0.63, 0.63, 0.63, 0.63, 0.63, 0.63, 0.63, 0.63, 0.63, 0.63, 0.63, 0.63, 0.63, 0.63, 0.63, 0.63, 0.63, 0.63]\n"
     ]
    }
   ],
   "source": [
    "\n",
    "print(model1_train)\n",
    "print(model1_test)\n",
    "print(model2_train)\n",
    "print(model2_test)"
   ]
  },
  {
   "cell_type": "code",
   "execution_count": 56,
   "id": "forty-logistics",
   "metadata": {},
   "outputs": [
    {
     "name": "stdout",
     "output_type": "stream",
     "text": [
      "## test_model1 (Train accuracy가 100인 경우의 모델)\n",
      "## Train 평균 정확도:  99.998\n",
      "## Test 평균 정확도:  0.584\n",
      "\n",
      "## test_model2 (Train accuracy가 100이 아닌 경우의 모델)\n",
      "## Train 평균 정확도:  92.75\n",
      "## Test 평균 정확도:  0.63\n"
     ]
    }
   ],
   "source": [
    "# '''\n",
    "# 20번 돌린 것을 100번 돌린 경우\n",
    "\n",
    "# '''\n",
    "# selected_genetic = ['G211', 'G179', 'G80', 'G27', 'G147', 'G139', 'G242', 'G264', 'G290', 'G130']\n",
    "\n",
    "\n",
    "# print('## test_model1 (Train accuracy가 100인 경우의 모델)')\n",
    "# train_result, test_result = [], []\n",
    "# for i in range(100):\n",
    "#     tmp1, tmp2 = TestML(test_model1, selected_genetic)\n",
    "#     train_result.extend(tmp1)\n",
    "#     test_result.extend(tmp2)\n",
    "    \n",
    "# print('## Train 평균 정확도: ', np.round(np.mean(train_result), 3))\n",
    "# print('## Test 평균 정확도: ', np.round(np.mean(test_result),3))\n",
    "# print()\n",
    "\n",
    "# print('## test_model2 (Train accuracy가 100이 아닌 경우의 모델)')\n",
    "# train_result, test_result = [], []\n",
    "# for i in range(100):\n",
    "#     tmp1, tmp2 = TestML(test_model2, selected_genetic)\n",
    "#     train_result.extend(tmp1)\n",
    "#     test_result.extend(tmp2)\n",
    "    \n",
    "# print('## Train 평균 정확도: ', np.round(np.mean(train_result), 3))\n",
    "# print('## Test 평균 정확도: ', np.round(np.mean(test_result),3))"
   ]
  },
  {
   "cell_type": "code",
   "execution_count": 402,
   "id": "unsigned-proxy",
   "metadata": {},
   "outputs": [
    {
     "name": "stdout",
     "output_type": "stream",
     "text": [
      "## test_model2 (Train accuracy가 100이 아닌 경우의 모델)\n",
      "## Train 평균 정확도:  89.375\n",
      "## Test 평균 정확도:  0.645\n"
     ]
    }
   ],
   "source": [
    "'''\n",
    "20번 돌린 것을 100번 돌린 경우\n",
    "\n",
    "'''\n",
    "selected_genetic = ['G203', 'G195', 'G297', 'G208', 'G196', 'G115', 'G290', 'G235', 'G253', 'G240']\n",
    "\n",
    "\n",
    "print('## test_model2 (Train accuracy가 100이 아닌 경우의 모델)')\n",
    "train_result, test_result = [], []\n",
    "for i in range(100):\n",
    "    tmp1, tmp2 = TestML(test_model2, selected_genetic)\n",
    "    train_result.extend(tmp1)\n",
    "    test_result.extend(tmp2)\n",
    "    \n",
    "print('## Train 평균 정확도: ', np.round(np.mean(train_result), 3))\n",
    "print('## Test 평균 정확도: ', np.round(np.mean(test_result),3))"
   ]
  },
  {
   "cell_type": "code",
   "execution_count": 404,
   "id": "amateur-anthropology",
   "metadata": {},
   "outputs": [
    {
     "name": "stdout",
     "output_type": "stream",
     "text": [
      "## test_model2 (Train accuracy가 100이 아닌 경우의 모델)\n",
      "## Train 평균 정확도:  89.25\n",
      "## Test 평균 정확도:  0.635\n"
     ]
    }
   ],
   "source": [
    "'''\n",
    "20번 돌린 것을 100번 돌린 경우\n",
    "\n",
    "'''\n",
    "selected_genetic = ['G211', 'G179', 'G80', 'G27', 'G147', 'G139', 'G242', 'G264', 'G290', 'G130']\n",
    "\n",
    "\n",
    "print('## test_model2 (Train accuracy가 100이 아닌 경우의 모델)')\n",
    "train_result, test_result = [], []\n",
    "for i in range(100):\n",
    "    tmp1, tmp2 = TestML(test_model2, selected_genetic)\n",
    "    train_result.extend(tmp1)\n",
    "    test_result.extend(tmp2)\n",
    "    \n",
    "print('## Train 평균 정확도: ', np.round(np.mean(train_result), 3))\n",
    "print('## Test 평균 정확도: ', np.round(np.mean(test_result),3))"
   ]
  },
  {
   "cell_type": "code",
   "execution_count": 104,
   "id": "d72f4ec7",
   "metadata": {},
   "outputs": [],
   "source": [
    "genetic = ['G'+str(i) for i in range(1,301)]"
   ]
  },
  {
   "cell_type": "code",
   "execution_count": 103,
   "id": "41d36a55",
   "metadata": {},
   "outputs": [],
   "source": [
    "import random\n",
    "\n",
    "# print(random.choices(genetic, k=10))"
   ]
  },
  {
   "cell_type": "code",
   "execution_count": null,
   "id": "0205cf8e",
   "metadata": {},
   "outputs": [],
   "source": [
    "over_genetic = []\n",
    "random_genetic_list = []\n",
    "train_result_list = []\n",
    "test_result_list = []\n",
    "\n",
    "for i in range(100):\n",
    "    test_genetic = random.sample(genetic, 10)\n",
    "    print('## 임의의 10개 유전자: ', test_genetic)\n",
    "    random_genetic_list.extend(test_genetic)\n",
    "    \n",
    "    train_accuracy, test_accuracy = TestML(test_model1, test_genetic)\n",
    "    train_result_list.append(train_accuracy)\n",
    "    test_result_list.append(test_accuracy)\n",
    "    \n",
    "    if np.max(test_accuracy) >= 0.635 or np.min(test_accuracy) >= 0.545:\n",
    "        print('-----------------Over!-----------------', end='\\n\\n\\n')\n",
    "        over_genetic.append(test_genetic)\n"
   ]
  },
  {
   "cell_type": "code",
   "execution_count": null,
   "id": "c7b1942c",
   "metadata": {},
   "outputs": [],
   "source": [
    "print(over_genetic)"
   ]
  },
  {
   "cell_type": "code",
   "execution_count": 281,
   "id": "entitled-tsunami",
   "metadata": {},
   "outputs": [],
   "source": [
    "def sort_genetic_table(genetic_list):\n",
    "    np_rgl = np.array(genetic_list)\n",
    "    np_rgl = np.char.replace(np_rgl, 'G', '')\n",
    "    np_rgl = np.array(np_rgl, dtype='int')\n",
    "    np_rgl = sorted(np_rgl)\n",
    "    np_rgl = np.array(np_rgl, dtype='str')\n",
    "    np_rgl = np.char.add(np.array(['G']*np_rgl.shape[0]),np_rgl)\n",
    "\n",
    "    return np_rgl.tolist()"
   ]
  },
  {
   "cell_type": "code",
   "execution_count": null,
   "id": "protected-minutes",
   "metadata": {},
   "outputs": [],
   "source": [
    "fig, ax = plt.subplots()\n",
    "\n",
    "kwargs = dict(alpha=0.3, bins=300)\n",
    "\n",
    "sorted_random_genetic_list = sort_genetic_table(random_genetic_list)\n",
    "ax.hist(sorted_random_genetic_list, **dict(alpha=0.3, bins=300), color='r', label='random genetic table')\n",
    "ax.hist(selected_genetic, **dict(alpha=1, bins=300), color='g', label='selected genetic table')\n",
    "ax.set(title='Frequency Histogram of Random genetic table', ylabel='Frequency')\n",
    "fig.savefig('myfile.png', dpi=300)\n",
    "plt.show()"
   ]
  },
  {
   "cell_type": "code",
   "execution_count": 286,
   "id": "dirty-humor",
   "metadata": {},
   "outputs": [
    {
     "ename": "NameError",
     "evalue": "name 'sorted_random_genetic_list' is not defined",
     "output_type": "error",
     "traceback": [
      "\u001b[1;31m---------------------------------------------------------------------------\u001b[0m",
      "\u001b[1;31mNameError\u001b[0m                                 Traceback (most recent call last)",
      "\u001b[1;32m<ipython-input-286-b9d3719d4cc8>\u001b[0m in \u001b[0;36m<module>\u001b[1;34m\u001b[0m\n\u001b[0;32m      2\u001b[0m \u001b[1;32mfrom\u001b[0m \u001b[0mtabulate\u001b[0m \u001b[1;32mimport\u001b[0m \u001b[0mtabulate\u001b[0m\u001b[1;33m\u001b[0m\u001b[1;33m\u001b[0m\u001b[0m\n\u001b[0;32m      3\u001b[0m \u001b[1;33m\u001b[0m\u001b[0m\n\u001b[1;32m----> 4\u001b[1;33m \u001b[0msorted_random_genetic_dict\u001b[0m \u001b[1;33m=\u001b[0m \u001b[0mCounter\u001b[0m\u001b[1;33m(\u001b[0m\u001b[0msorted_random_genetic_list\u001b[0m\u001b[1;33m)\u001b[0m\u001b[1;33m\u001b[0m\u001b[1;33m\u001b[0m\u001b[0m\n\u001b[0m\u001b[0;32m      5\u001b[0m \u001b[0msorted_random_genetic_df\u001b[0m \u001b[1;33m=\u001b[0m \u001b[0mpd\u001b[0m\u001b[1;33m.\u001b[0m\u001b[0mDataFrame\u001b[0m\u001b[1;33m.\u001b[0m\u001b[0mfrom_dict\u001b[0m\u001b[1;33m(\u001b[0m\u001b[0msorted_random_genetic_dict\u001b[0m\u001b[1;33m,\u001b[0m \u001b[0morient\u001b[0m\u001b[1;33m=\u001b[0m\u001b[1;34m'index'\u001b[0m\u001b[1;33m)\u001b[0m\u001b[1;33m.\u001b[0m\u001b[0mrename\u001b[0m\u001b[1;33m(\u001b[0m\u001b[0mcolumns\u001b[0m\u001b[1;33m=\u001b[0m\u001b[1;33m{\u001b[0m\u001b[1;36m0\u001b[0m\u001b[1;33m:\u001b[0m\u001b[1;34m'Count'\u001b[0m\u001b[1;33m}\u001b[0m\u001b[1;33m)\u001b[0m\u001b[1;33m\u001b[0m\u001b[1;33m\u001b[0m\u001b[0m\n\u001b[0;32m      6\u001b[0m \u001b[1;31m# sorted_random_genetic_df.style\u001b[0m\u001b[1;33m\u001b[0m\u001b[1;33m\u001b[0m\u001b[1;33m\u001b[0m\u001b[0m\n",
      "\u001b[1;31mNameError\u001b[0m: name 'sorted_random_genetic_list' is not defined"
     ]
    }
   ],
   "source": [
    "from collections import Counter\n",
    "from tabulate import tabulate\n",
    "\n",
    "sorted_random_genetic_dict = Counter(sorted_random_genetic_list)\n",
    "sorted_random_genetic_df = pd.DataFrame.from_dict(sorted_random_genetic_dict, orient='index').rename(columns={0:'Count'})\n",
    "# sorted_random_genetic_df.style\n",
    "\n",
    "print(tabulate(sorted_random_genetic_df, headers = 'keys', tablefmt='pretty'))"
   ]
  },
  {
   "cell_type": "code",
   "execution_count": 396,
   "id": "figured-palestine",
   "metadata": {},
   "outputs": [
    {
     "ename": "AttributeError",
     "evalue": "'list' object has no attribute 'shuffle'",
     "output_type": "error",
     "traceback": [
      "\u001b[1;31m---------------------------------------------------------------------------\u001b[0m",
      "\u001b[1;31mAttributeError\u001b[0m                            Traceback (most recent call last)",
      "\u001b[1;32m<ipython-input-396-9beb686a81f2>\u001b[0m in \u001b[0;36m<module>\u001b[1;34m\u001b[0m\n\u001b[1;32m----> 1\u001b[1;33m \u001b[0mgenetic\u001b[0m\u001b[1;33m.\u001b[0m\u001b[0mshuffle\u001b[0m\u001b[1;33m(\u001b[0m\u001b[1;33m)\u001b[0m\u001b[1;33m\u001b[0m\u001b[1;33m\u001b[0m\u001b[0m\n\u001b[0m",
      "\u001b[1;31mAttributeError\u001b[0m: 'list' object has no attribute 'shuffle'"
     ]
    }
   ],
   "source": []
  },
  {
   "cell_type": "code",
   "execution_count": 425,
   "id": "f371016d",
   "metadata": {},
   "outputs": [
    {
     "name": "stdout",
     "output_type": "stream",
     "text": [
      "## 임의의 10개 유전자:  ['G300', 'G236', 'G119', 'G193', 'G291', 'G60', 'G38', 'G149', 'G69', 'G112']\n",
      "## Train 정확도:  77.125 77.125\n",
      "## Test 정확도:  0.61 0.61\n",
      "\n",
      "## 임의의 10개 유전자:  ['G162', 'G209', 'G171', 'G181', 'G248', 'G259', 'G58', 'G200', 'G291', 'G29']\n",
      "## Train 정확도:  77.625 77.625\n",
      "## Test 정확도:  0.615 0.615\n",
      "\n",
      "## 임의의 10개 유전자:  ['G215', 'G92', 'G2', 'G182', 'G31', 'G279', 'G37', 'G293', 'G11', 'G230']\n",
      "## Train 정확도:  77.25 77.25\n",
      "## Test 정확도:  0.6 0.6\n",
      "\n",
      "## 임의의 10개 유전자:  ['G105', 'G62', 'G73', 'G231', 'G22', 'G76', 'G30', 'G11', 'G221', 'G183']\n",
      "## Train 정확도:  76.0 76.0\n",
      "## Test 정확도:  0.615 0.615\n",
      "\n",
      "## 임의의 10개 유전자:  ['G228', 'G23', 'G180', 'G199', 'G178', 'G236', 'G149', 'G221', 'G124', 'G182']\n",
      "## Train 정확도:  76.5 76.5\n",
      "## Test 정확도:  0.615 0.615\n",
      "\n",
      "## 임의의 10개 유전자:  ['G268', 'G191', 'G257', 'G226', 'G195', 'G153', 'G30', 'G32', 'G10', 'G34']\n",
      "## Train 정확도:  77.125 77.125\n",
      "## Test 정확도:  0.605 0.605\n",
      "\n",
      "## 임의의 10개 유전자:  ['G91', 'G237', 'G243', 'G244', 'G124', 'G245', 'G236', 'G292', 'G121', 'G214']\n",
      "## Train 정확도:  76.125 76.125\n",
      "## Test 정확도:  0.585 0.585\n",
      "\n",
      "## 임의의 10개 유전자:  ['G106', 'G187', 'G54', 'G297', 'G117', 'G292', 'G169', 'G240', 'G242', 'G125']\n",
      "## Train 정확도:  76.5 76.5\n",
      "## Test 정확도:  0.59 0.59\n",
      "\n",
      "## 임의의 10개 유전자:  ['G64', 'G136', 'G256', 'G296', 'G14', 'G206', 'G61', 'G235', 'G297', 'G197']\n",
      "## Train 정확도:  75.75 75.75\n",
      "## Test 정확도:  0.605 0.605\n",
      "\n",
      "## 임의의 10개 유전자:  ['G52', 'G234', 'G288', 'G204', 'G95', 'G100', 'G281', 'G187', 'G7', 'G238']\n",
      "## Train 정확도:  75.125 75.125\n",
      "## Test 정확도:  0.6 0.6\n",
      "\n",
      "## 임의의 10개 유전자:  ['G19', 'G202', 'G244', 'G72', 'G260', 'G43', 'G14', 'G271', 'G286', 'G145']\n",
      "## Train 정확도:  76.125 76.125\n",
      "## Test 정확도:  0.615 0.615\n",
      "\n",
      "## 임의의 10개 유전자:  ['G132', 'G12', 'G105', 'G277', 'G111', 'G196', 'G237', 'G290', 'G1', 'G216']\n",
      "## Train 정확도:  76.375 76.375\n",
      "## Test 정확도:  0.595 0.595\n",
      "\n",
      "## 임의의 10개 유전자:  ['G11', 'G7', 'G217', 'G199', 'G86', 'G19', 'G156', 'G46', 'G15', 'G150']\n",
      "## Train 정확도:  75.75 75.75\n",
      "## Test 정확도:  0.605 0.605\n",
      "\n",
      "## 임의의 10개 유전자:  ['G261', 'G240', 'G21', 'G298', 'G268', 'G173', 'G47', 'G196', 'G224', 'G1']\n",
      "## Train 정확도:  76.25 76.25\n",
      "## Test 정확도:  0.615 0.615\n",
      "\n",
      "## 임의의 10개 유전자:  ['G100', 'G243', 'G178', 'G275', 'G119', 'G170', 'G62', 'G52', 'G138', 'G289']\n",
      "## Train 정확도:  77.625 77.625\n",
      "## Test 정확도:  0.63 0.63\n",
      "\n",
      "-----------------Over!-----------------\n",
      "\n",
      "\n",
      "## 임의의 10개 유전자:  ['G163', 'G192', 'G174', 'G279', 'G264', 'G249', 'G111', 'G214', 'G144', 'G137']\n",
      "## Train 정확도:  77.0 77.0\n",
      "## Test 정확도:  0.62 0.62\n",
      "\n",
      "-----------------Over!-----------------\n",
      "\n",
      "\n",
      "## 임의의 10개 유전자:  ['G118', 'G121', 'G286', 'G295', 'G11', 'G271', 'G112', 'G272', 'G250', 'G28']\n",
      "## Train 정확도:  77.25 77.25\n",
      "## Test 정확도:  0.59 0.59\n",
      "\n",
      "## 임의의 10개 유전자:  ['G272', 'G32', 'G81', 'G52', 'G111', 'G135', 'G200', 'G262', 'G193', 'G255']\n",
      "## Train 정확도:  76.25 76.25\n",
      "## Test 정확도:  0.6 0.6\n",
      "\n",
      "## 임의의 10개 유전자:  ['G208', 'G162', 'G213', 'G86', 'G118', 'G90', 'G93', 'G172', 'G181', 'G121']\n",
      "## Train 정확도:  77.5 77.5\n",
      "## Test 정확도:  0.605 0.605\n",
      "\n",
      "## 임의의 10개 유전자:  ['G58', 'G131', 'G34', 'G165', 'G178', 'G294', 'G152', 'G203', 'G89', 'G71']\n"
     ]
    },
    {
     "ename": "KeyboardInterrupt",
     "evalue": "",
     "output_type": "error",
     "traceback": [
      "\u001b[1;31m---------------------------------------------------------------------------\u001b[0m",
      "\u001b[1;31mKeyboardInterrupt\u001b[0m                         Traceback (most recent call last)",
      "\u001b[1;32m<ipython-input-425-806a049e3a6b>\u001b[0m in \u001b[0;36m<module>\u001b[1;34m\u001b[0m\n\u001b[0;32m      7\u001b[0m     \u001b[0mrandom_genetic_list\u001b[0m\u001b[1;33m.\u001b[0m\u001b[0mextend\u001b[0m\u001b[1;33m(\u001b[0m\u001b[0mtest_genetic\u001b[0m\u001b[1;33m)\u001b[0m\u001b[1;33m\u001b[0m\u001b[1;33m\u001b[0m\u001b[0m\n\u001b[0;32m      8\u001b[0m \u001b[1;33m\u001b[0m\u001b[0m\n\u001b[1;32m----> 9\u001b[1;33m     \u001b[0mtrain_accuracy\u001b[0m\u001b[1;33m,\u001b[0m \u001b[0mtest_accuracy\u001b[0m \u001b[1;33m=\u001b[0m \u001b[0mTestML\u001b[0m\u001b[1;33m(\u001b[0m\u001b[0mtest_model2\u001b[0m\u001b[1;33m,\u001b[0m \u001b[0mtest_genetic\u001b[0m\u001b[1;33m)\u001b[0m\u001b[1;33m\u001b[0m\u001b[1;33m\u001b[0m\u001b[0m\n\u001b[0m\u001b[0;32m     10\u001b[0m \u001b[1;33m\u001b[0m\u001b[0m\n\u001b[0;32m     11\u001b[0m     \u001b[1;32mif\u001b[0m \u001b[0mnp\u001b[0m\u001b[1;33m.\u001b[0m\u001b[0mmax\u001b[0m\u001b[1;33m(\u001b[0m\u001b[0mtest_accuracy\u001b[0m\u001b[1;33m)\u001b[0m \u001b[1;33m>=\u001b[0m \u001b[1;36m0.62\u001b[0m\u001b[1;33m:\u001b[0m\u001b[1;33m\u001b[0m\u001b[1;33m\u001b[0m\u001b[0m\n",
      "\u001b[1;32m<ipython-input-416-fbbc28049f81>\u001b[0m in \u001b[0;36mTestML\u001b[1;34m(model, selected_genetic)\u001b[0m\n\u001b[0;32m     17\u001b[0m         \u001b[0mY_test\u001b[0m \u001b[1;33m=\u001b[0m \u001b[0mtest_data\u001b[0m\u001b[1;33m[\u001b[0m\u001b[1;34m'newlabel'\u001b[0m\u001b[1;33m]\u001b[0m\u001b[1;33m\u001b[0m\u001b[1;33m\u001b[0m\u001b[0m\n\u001b[0;32m     18\u001b[0m \u001b[1;33m\u001b[0m\u001b[0m\n\u001b[1;32m---> 19\u001b[1;33m         \u001b[0mmodel\u001b[0m\u001b[1;33m.\u001b[0m\u001b[0mfit\u001b[0m\u001b[1;33m(\u001b[0m\u001b[0mX_train\u001b[0m\u001b[1;33m,\u001b[0m \u001b[0mY_train\u001b[0m\u001b[1;33m)\u001b[0m\u001b[1;33m\u001b[0m\u001b[1;33m\u001b[0m\u001b[0m\n\u001b[0m\u001b[0;32m     20\u001b[0m         \u001b[0mtrain_acc\u001b[0m\u001b[1;33m.\u001b[0m\u001b[0mappend\u001b[0m\u001b[1;33m(\u001b[0m\u001b[0mnp\u001b[0m\u001b[1;33m.\u001b[0m\u001b[0mround\u001b[0m\u001b[1;33m(\u001b[0m\u001b[0mmodel\u001b[0m\u001b[1;33m.\u001b[0m\u001b[0mscore\u001b[0m\u001b[1;33m(\u001b[0m\u001b[0mX_train\u001b[0m\u001b[1;33m,\u001b[0m \u001b[0mY_train\u001b[0m\u001b[1;33m)\u001b[0m \u001b[1;33m*\u001b[0m \u001b[1;36m100\u001b[0m\u001b[1;33m,\u001b[0m \u001b[1;36m10\u001b[0m\u001b[1;33m)\u001b[0m\u001b[1;33m)\u001b[0m\u001b[1;33m\u001b[0m\u001b[1;33m\u001b[0m\u001b[0m\n\u001b[0;32m     21\u001b[0m \u001b[1;33m\u001b[0m\u001b[0m\n",
      "\u001b[1;32m~\\anaconda3\\lib\\site-packages\\lightgbm\\sklearn.py\u001b[0m in \u001b[0;36mfit\u001b[1;34m(self, X, y, sample_weight, init_score, eval_set, eval_names, eval_sample_weight, eval_class_weight, eval_init_score, eval_metric, early_stopping_rounds, verbose, feature_name, categorical_feature, callbacks, init_model)\u001b[0m\n\u001b[0;32m    888\u001b[0m                     \u001b[0mvalid_sets\u001b[0m\u001b[1;33m[\u001b[0m\u001b[0mi\u001b[0m\u001b[1;33m]\u001b[0m \u001b[1;33m=\u001b[0m \u001b[1;33m(\u001b[0m\u001b[0mvalid_x\u001b[0m\u001b[1;33m,\u001b[0m \u001b[0mself\u001b[0m\u001b[1;33m.\u001b[0m\u001b[0m_le\u001b[0m\u001b[1;33m.\u001b[0m\u001b[0mtransform\u001b[0m\u001b[1;33m(\u001b[0m\u001b[0mvalid_y\u001b[0m\u001b[1;33m)\u001b[0m\u001b[1;33m)\u001b[0m\u001b[1;33m\u001b[0m\u001b[1;33m\u001b[0m\u001b[0m\n\u001b[0;32m    889\u001b[0m \u001b[1;33m\u001b[0m\u001b[0m\n\u001b[1;32m--> 890\u001b[1;33m         super().fit(X, _y, sample_weight=sample_weight, init_score=init_score, eval_set=valid_sets,\n\u001b[0m\u001b[0;32m    891\u001b[0m                     \u001b[0meval_names\u001b[0m\u001b[1;33m=\u001b[0m\u001b[0meval_names\u001b[0m\u001b[1;33m,\u001b[0m \u001b[0meval_sample_weight\u001b[0m\u001b[1;33m=\u001b[0m\u001b[0meval_sample_weight\u001b[0m\u001b[1;33m,\u001b[0m\u001b[1;33m\u001b[0m\u001b[1;33m\u001b[0m\u001b[0m\n\u001b[0;32m    892\u001b[0m                     \u001b[0meval_class_weight\u001b[0m\u001b[1;33m=\u001b[0m\u001b[0meval_class_weight\u001b[0m\u001b[1;33m,\u001b[0m \u001b[0meval_init_score\u001b[0m\u001b[1;33m=\u001b[0m\u001b[0meval_init_score\u001b[0m\u001b[1;33m,\u001b[0m\u001b[1;33m\u001b[0m\u001b[1;33m\u001b[0m\u001b[0m\n",
      "\u001b[1;32m~\\anaconda3\\lib\\site-packages\\lightgbm\\sklearn.py\u001b[0m in \u001b[0;36mfit\u001b[1;34m(self, X, y, sample_weight, init_score, group, eval_set, eval_names, eval_sample_weight, eval_class_weight, eval_init_score, eval_group, eval_metric, early_stopping_rounds, verbose, feature_name, categorical_feature, callbacks, init_model)\u001b[0m\n\u001b[0;32m    681\u001b[0m             \u001b[0minit_model\u001b[0m \u001b[1;33m=\u001b[0m \u001b[0minit_model\u001b[0m\u001b[1;33m.\u001b[0m\u001b[0mbooster_\u001b[0m\u001b[1;33m\u001b[0m\u001b[1;33m\u001b[0m\u001b[0m\n\u001b[0;32m    682\u001b[0m \u001b[1;33m\u001b[0m\u001b[0m\n\u001b[1;32m--> 683\u001b[1;33m         self._Booster = train(params, train_set,\n\u001b[0m\u001b[0;32m    684\u001b[0m                               \u001b[0mself\u001b[0m\u001b[1;33m.\u001b[0m\u001b[0mn_estimators\u001b[0m\u001b[1;33m,\u001b[0m \u001b[0mvalid_sets\u001b[0m\u001b[1;33m=\u001b[0m\u001b[0mvalid_sets\u001b[0m\u001b[1;33m,\u001b[0m \u001b[0mvalid_names\u001b[0m\u001b[1;33m=\u001b[0m\u001b[0meval_names\u001b[0m\u001b[1;33m,\u001b[0m\u001b[1;33m\u001b[0m\u001b[1;33m\u001b[0m\u001b[0m\n\u001b[0;32m    685\u001b[0m                               \u001b[0mearly_stopping_rounds\u001b[0m\u001b[1;33m=\u001b[0m\u001b[0mearly_stopping_rounds\u001b[0m\u001b[1;33m,\u001b[0m\u001b[1;33m\u001b[0m\u001b[1;33m\u001b[0m\u001b[0m\n",
      "\u001b[1;32m~\\anaconda3\\lib\\site-packages\\lightgbm\\engine.py\u001b[0m in \u001b[0;36mtrain\u001b[1;34m(params, train_set, num_boost_round, valid_sets, valid_names, fobj, feval, init_model, feature_name, categorical_feature, early_stopping_rounds, evals_result, verbose_eval, learning_rates, keep_training_booster, callbacks)\u001b[0m\n\u001b[0;32m    247\u001b[0m                                     evaluation_result_list=None))\n\u001b[0;32m    248\u001b[0m \u001b[1;33m\u001b[0m\u001b[0m\n\u001b[1;32m--> 249\u001b[1;33m         \u001b[0mbooster\u001b[0m\u001b[1;33m.\u001b[0m\u001b[0mupdate\u001b[0m\u001b[1;33m(\u001b[0m\u001b[0mfobj\u001b[0m\u001b[1;33m=\u001b[0m\u001b[0mfobj\u001b[0m\u001b[1;33m)\u001b[0m\u001b[1;33m\u001b[0m\u001b[1;33m\u001b[0m\u001b[0m\n\u001b[0m\u001b[0;32m    250\u001b[0m \u001b[1;33m\u001b[0m\u001b[0m\n\u001b[0;32m    251\u001b[0m         \u001b[0mevaluation_result_list\u001b[0m \u001b[1;33m=\u001b[0m \u001b[1;33m[\u001b[0m\u001b[1;33m]\u001b[0m\u001b[1;33m\u001b[0m\u001b[1;33m\u001b[0m\u001b[0m\n",
      "\u001b[1;32m~\\anaconda3\\lib\\site-packages\\lightgbm\\basic.py\u001b[0m in \u001b[0;36mupdate\u001b[1;34m(self, train_set, fobj)\u001b[0m\n\u001b[0;32m   2641\u001b[0m             \u001b[1;32mif\u001b[0m \u001b[0mself\u001b[0m\u001b[1;33m.\u001b[0m\u001b[0m__set_objective_to_none\u001b[0m\u001b[1;33m:\u001b[0m\u001b[1;33m\u001b[0m\u001b[1;33m\u001b[0m\u001b[0m\n\u001b[0;32m   2642\u001b[0m                 \u001b[1;32mraise\u001b[0m \u001b[0mLightGBMError\u001b[0m\u001b[1;33m(\u001b[0m\u001b[1;34m'Cannot update due to null objective function.'\u001b[0m\u001b[1;33m)\u001b[0m\u001b[1;33m\u001b[0m\u001b[1;33m\u001b[0m\u001b[0m\n\u001b[1;32m-> 2643\u001b[1;33m             _safe_call(_LIB.LGBM_BoosterUpdateOneIter(\n\u001b[0m\u001b[0;32m   2644\u001b[0m                 \u001b[0mself\u001b[0m\u001b[1;33m.\u001b[0m\u001b[0mhandle\u001b[0m\u001b[1;33m,\u001b[0m\u001b[1;33m\u001b[0m\u001b[1;33m\u001b[0m\u001b[0m\n\u001b[0;32m   2645\u001b[0m                 ctypes.byref(is_finished)))\n",
      "\u001b[1;31mKeyboardInterrupt\u001b[0m: "
     ]
    }
   ],
   "source": [
    "over_genetic = []\n",
    "random_genetic_list = []\n",
    "\n",
    "for i in range(100):\n",
    "    test_genetic = random.sample(genetic, 10)\n",
    "    print('## 임의의 10개 유전자: ', test_genetic)\n",
    "    random_genetic_list.extend(test_genetic)\n",
    "    \n",
    "    train_accuracy, test_accuracy = TestML(test_model2, test_genetic)\n",
    "    \n",
    "    if np.max(test_accuracy) >= 0.62:\n",
    "        print('-----------------Over!-----------------', end='\\n\\n\\n')\n",
    "        over_genetic.append([test_genetic,np.max(test_accuracy)])\n",
    "        "
   ]
  },
  {
   "cell_type": "code",
   "execution_count": null,
   "id": "7a32cdda",
   "metadata": {
    "scrolled": true
   },
   "outputs": [],
   "source": [
    "print(over_genetic)"
   ]
  },
  {
   "cell_type": "code",
   "execution_count": null,
   "id": "1a6a7313",
   "metadata": {},
   "outputs": [],
   "source": [
    "print(len(over_genetic))"
   ]
  },
  {
   "cell_type": "code",
   "execution_count": null,
   "id": "early-knock",
   "metadata": {},
   "outputs": [],
   "source": []
  },
  {
   "cell_type": "code",
   "execution_count": null,
   "id": "unauthorized-korea",
   "metadata": {},
   "outputs": [],
   "source": [
    "over_genetic_results = np.array(over_genetic)\n",
    "pd.set_option('display.max_colwidth', -1)\n",
    "display(pd.DataFrame(over_genetic_results, columns=['RandomSet', 'Result']))"
   ]
  },
  {
   "cell_type": "code",
   "execution_count": 309,
   "id": "final-maldives",
   "metadata": {},
   "outputs": [
    {
     "data": {
      "image/png": "[encoded data removed]",
      "text/plain": [
       "<Figure size 14400x720 with 1 Axes>"
      ]
     },
     "metadata": {
      "needs_background": "light"
     },
     "output_type": "display_data"
    }
   ],
   "source": [
    "fig, ax = plt.subplots()\n",
    "\n",
    "kwargs = dict(alpha=0.3, bins=300)\n",
    "\n",
    "sorted_random_genetic_list = sort_genetic_table(random_genetic_list)\n",
    "ax.hist(sorted_random_genetic_list, **dict(alpha=0.3, bins=300), color='r', label='random genetic table')\n",
    "ax.hist(selected_genetic, **dict(alpha=1, bins=300), color='g', label='selected genetic table')\n",
    "ax.set(title='Frequency Histogram of Random genetic table', ylabel='Frequency')\n",
    "fig.savefig('Frequency Histogram of Random genetic table - Acc_not_100.png', dpi = 200)\n",
    "plt.show()"
   ]
  },
  {
   "cell_type": "code",
   "execution_count": null,
   "id": "technological-willow",
   "metadata": {},
   "outputs": [],
   "source": []
  }
 ],
 "metadata": {
  "kernelspec": {
   "display_name": "Python 3",
   "language": "python",
   "name": "python3"
  },
  "language_info": {
   "codemirror_mode": {
    "name": "ipython",
    "version": 3
   },
   "file_extension": ".py",
   "mimetype": "text/x-python",
   "name": "python",
   "nbconvert_exporter": "python",
   "pygments_lexer": "ipython3",
   "version": "3.8.8"
  }
 },
 "nbformat": 4,
 "nbformat_minor": 5
}
